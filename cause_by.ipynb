{
 "cells": [
  {
   "cell_type": "code",
   "execution_count": 1,
   "metadata": {},
   "outputs": [],
   "source": [
    "from pattern.en import parsetree\n",
    "from pattern.search import search"
   ]
  },
  {
   "cell_type": "markdown",
   "metadata": {},
   "source": [
    "* [SING] is|was caused by\n",
    "* are caused by\n",
    "* [PLUR] were caused by\n",
    "* [SING] has been caused by\n",
    "* [PLUR] have been caused by\n",
    "* had been caused by\n",
    "* will have been caused by\n",
    "* would have been caused by\n",
    "* is being caused by\n",
    "* was being caused by\n",
    "* were being caused by\n",
    "* would be caused by\n",
    "* will be caused by"
   ]
  },
  {
   "cell_type": "code",
   "execution_count": 57,
   "metadata": {},
   "outputs": [],
   "source": [
    "t1 = parsetree(\"Lung cancer have been caused by cigarettes.\", lemmata=True)\n",
    "# Note: I need to include lemmata=True in parsetree..."
   ]
  },
  {
   "cell_type": "code",
   "execution_count": 58,
   "metadata": {},
   "outputs": [],
   "source": [
    "pattern1 = \"{NP} be cause by {NP}\""
   ]
  },
  {
   "cell_type": "code",
   "execution_count": 59,
   "metadata": {},
   "outputs": [
    {
     "name": "stdout",
     "output_type": "stream",
     "text": [
      "1\n"
     ]
    }
   ],
   "source": [
    "possible_matches = search(pattern1, t1)\n",
    "print(len(possible_matches))"
   ]
  },
  {
   "cell_type": "code",
   "execution_count": 60,
   "metadata": {},
   "outputs": [
    {
     "name": "stdout",
     "output_type": "stream",
     "text": [
      "cause: Lung cancer\n",
      "effect: cigarettes\n"
     ]
    }
   ],
   "source": [
    "for single_match in possible_matches:\n",
    "    print(\"cause:\", single_match.group(1).string)\n",
    "    print(\"effect:\", single_match.group(2).string)"
   ]
  },
  {
   "cell_type": "markdown",
   "metadata": {},
   "source": [
    "# TO DO: Create test sentences for all examples above."
   ]
  },
  {
   "cell_type": "code",
   "execution_count": null,
   "metadata": {},
   "outputs": [],
   "source": []
  }
 ],
 "metadata": {
  "kernelspec": {
   "display_name": "Python 3",
   "language": "python",
   "name": "python3"
  },
  "language_info": {
   "codemirror_mode": {
    "name": "ipython",
    "version": 3
   },
   "file_extension": ".py",
   "mimetype": "text/x-python",
   "name": "python",
   "nbconvert_exporter": "python",
   "pygments_lexer": "ipython3",
   "version": "3.6.6"
  }
 },
 "nbformat": 4,
 "nbformat_minor": 2
}
