{
 "cells": [
  {
   "cell_type": "code",
   "execution_count": 2,
   "metadata": {},
   "outputs": [],
   "source": [
    "from pattern.en import parsetree\n",
    "from pattern.search import search"
   ]
  },
  {
   "cell_type": "markdown",
   "metadata": {},
   "source": [
    "* [SING] is|was caused by\n",
    "* are caused by\n",
    "* [PLUR] were caused by\n",
    "* [SING] has been caused by\n",
    "* [PLUR] have been caused by\n",
    "* had been caused by\n",
    "* will have been caused by\n",
    "* would have been caused by\n",
    "* is being caused by\n",
    "* was being caused by\n",
    "* were being caused by\n",
    "* would be caused by\n",
    "* will be caused by"
   ]
  },
  {
   "cell_type": "code",
   "execution_count": 24,
   "metadata": {},
   "outputs": [],
   "source": [
    "text1 = \"Lung cancer is caused by tobacco, bad diet, and inadequate exercise.\"\n",
    "text2 = \"Lung cancer was caused by tobacco.\"\n",
    "text3 = \"Metastatic cancers are caused by tobacco.\"\n",
    "text4 = \"Metastatic cancers were caused by tobacco.\"\n",
    "text5 = \"Lung cancer has been caused by tobacco.\"\n",
    "text6 = \"Metastatic cancers have been caused by tobacco.\"\n",
    "text7 = \"Lung cancer had been caused by tobacco.\"\n",
    "text8 = \"Metastatic cancers will have been caused by tobacco.\"\n",
    "text9 = \"Metastatic cancers would have been caused by tobacco.\"\n",
    "text10 = \"Lung cancer is being caused by tobacco.\"\n",
    "text11 = \"Lung cancer was being caused by tobacco.\"\n",
    "text12 = \"Metastatic cancers were being caused by tobacco.\"\n",
    "text13 = \"Lung cancer would be caused by tobacco.\"\n",
    "text14 = \"Lung cancer will be caused by tobacco.\""
   ]
  },
  {
   "cell_type": "code",
   "execution_count": 25,
   "metadata": {},
   "outputs": [],
   "source": [
    "text_list = [text1, text2, text3, text4, text5, text6, text7,\n",
    "             text8, text9, text10, text11, text12, text13, text14]"
   ]
  },
  {
   "cell_type": "code",
   "execution_count": 26,
   "metadata": {},
   "outputs": [
    {
     "name": "stdout",
     "output_type": "stream",
     "text": [
      "Lung cancer is caused by tobacco, bad diet, and inadequate exercise.\n",
      "Lung cancer was caused by tobacco.\n",
      "Metastatic cancers are caused by tobacco.\n",
      "Metastatic cancers were caused by tobacco.\n",
      "Lung cancer has been caused by tobacco.\n",
      "Metastatic cancers have been caused by tobacco.\n",
      "Lung cancer had been caused by tobacco.\n",
      "Metastatic cancers will have been caused by tobacco.\n",
      "Metastatic cancers would have been caused by tobacco.\n",
      "Lung cancer is being caused by tobacco.\n",
      "Lung cancer was being caused by tobacco.\n",
      "Metastatic cancers were being caused by tobacco.\n",
      "Lung cancer would be caused by tobacco.\n",
      "Lung cancer will be caused by tobacco.\n"
     ]
    }
   ],
   "source": [
    "for single_text in text_list:\n",
    "    print(single_text)"
   ]
  },
  {
   "cell_type": "code",
   "execution_count": 27,
   "metadata": {},
   "outputs": [],
   "source": [
    "pattern1 = \"{NP} be cause by {NP}\""
   ]
  },
  {
   "cell_type": "code",
   "execution_count": 31,
   "metadata": {},
   "outputs": [],
   "source": [
    "pattern2 = \"{NP} be cause by {NP , NP , and NP}\""
   ]
  },
  {
   "cell_type": "code",
   "execution_count": null,
   "metadata": {},
   "outputs": [],
   "source": [
    "pattern3 = \"{NP , NP , and NP} be cause by {NP}\""
   ]
  },
  {
   "cell_type": "code",
   "execution_count": null,
   "metadata": {},
   "outputs": [],
   "source": [
    "pattern4 = \"{NP , NP , and NP} be cause by {NP}\""
   ]
  },
  {
   "cell_type": "code",
   "execution_count": 28,
   "metadata": {},
   "outputs": [],
   "source": [
    "def extract_cause_effect(my_pattern, my_text):\n",
    "    t = parsetree(my_text, lemmata=True)\n",
    "    possible_matches = search(my_pattern, t, lemmata=True)\n",
    "    for single_match in possible_matches:\n",
    "        print(\"Cause:\", single_match.group(2).string)\n",
    "        print(\"Effect:\", single_match.group(1).string)"
   ]
  },
  {
   "cell_type": "code",
   "execution_count": 30,
   "metadata": {},
   "outputs": [
    {
     "name": "stdout",
     "output_type": "stream",
     "text": [
      "Cause: tobacco , bad diet , and inadequate exercise\n",
      "Effect: Lung cancer\n"
     ]
    }
   ],
   "source": [
    "extract_cause_effect(\"{NP} be cause by {NP , NP , and NP}\", text_list[0])"
   ]
  },
  {
   "cell_type": "code",
   "execution_count": 29,
   "metadata": {},
   "outputs": [
    {
     "name": "stdout",
     "output_type": "stream",
     "text": [
      "0 Lung cancer is caused by tobacco, bad diet, and inadequate exercise.\n",
      "Cause: tobacco\n",
      "Effect: Lung cancer\n",
      "------------------------------------\n",
      "1 Lung cancer was caused by tobacco.\n",
      "Cause: tobacco\n",
      "Effect: Lung cancer\n",
      "------------------------------------\n",
      "2 Metastatic cancers are caused by tobacco.\n",
      "Cause: tobacco\n",
      "Effect: Metastatic cancers\n",
      "------------------------------------\n",
      "3 Metastatic cancers were caused by tobacco.\n",
      "Cause: tobacco\n",
      "Effect: Metastatic cancers\n",
      "------------------------------------\n",
      "4 Lung cancer has been caused by tobacco.\n",
      "Cause: tobacco\n",
      "Effect: Lung cancer\n",
      "------------------------------------\n",
      "5 Metastatic cancers have been caused by tobacco.\n",
      "Cause: tobacco\n",
      "Effect: Metastatic cancers\n",
      "------------------------------------\n",
      "6 Lung cancer had been caused by tobacco.\n",
      "Cause: tobacco\n",
      "Effect: Lung cancer\n",
      "------------------------------------\n",
      "7 Metastatic cancers will have been caused by tobacco.\n",
      "Cause: tobacco\n",
      "Effect: Metastatic cancers\n",
      "------------------------------------\n",
      "8 Metastatic cancers would have been caused by tobacco.\n",
      "Cause: tobacco\n",
      "Effect: Metastatic cancers\n",
      "------------------------------------\n",
      "9 Lung cancer is being caused by tobacco.\n",
      "Cause: tobacco\n",
      "Effect: Lung cancer\n",
      "------------------------------------\n",
      "10 Lung cancer was being caused by tobacco.\n",
      "Cause: tobacco\n",
      "Effect: Lung cancer\n",
      "------------------------------------\n",
      "11 Metastatic cancers were being caused by tobacco.\n",
      "Cause: tobacco\n",
      "Effect: Metastatic cancers\n",
      "------------------------------------\n",
      "12 Lung cancer would be caused by tobacco.\n",
      "Cause: tobacco\n",
      "Effect: Lung cancer\n",
      "------------------------------------\n",
      "13 Lung cancer will be caused by tobacco.\n",
      "Cause: tobacco\n",
      "Effect: Lung cancer\n",
      "------------------------------------\n"
     ]
    }
   ],
   "source": [
    "for i in range(len(text_list)):\n",
    "    print(i, text_list[i])\n",
    "    extract_cause_effect(pattern1, text_list[i])\n",
    "    print(\"------------------------------------\")"
   ]
  },
  {
   "cell_type": "code",
   "execution_count": null,
   "metadata": {},
   "outputs": [],
   "source": []
  },
  {
   "cell_type": "markdown",
   "metadata": {},
   "source": [
    "# TO DO: Create test sentences for all examples above."
   ]
  },
  {
   "cell_type": "code",
   "execution_count": null,
   "metadata": {},
   "outputs": [],
   "source": []
  }
 ],
 "metadata": {
  "kernelspec": {
   "display_name": "Python 3",
   "language": "python",
   "name": "python3"
  },
  "language_info": {
   "codemirror_mode": {
    "name": "ipython",
    "version": 3
   },
   "file_extension": ".py",
   "mimetype": "text/x-python",
   "name": "python",
   "nbconvert_exporter": "python",
   "pygments_lexer": "ipython3",
   "version": "3.6.6"
  }
 },
 "nbformat": 4,
 "nbformat_minor": 2
}
