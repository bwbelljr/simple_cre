{
 "cells": [
  {
   "cell_type": "code",
   "execution_count": 1,
   "metadata": {},
   "outputs": [
    {
     "name": "stdout",
     "output_type": "stream",
     "text": [
      "['{NP} CAUSALV1 {NP and? NP?}', '{DT?|PP? JJ? NN*+ and DT?|PP? JJ? NN*+} CAUSALV2 {NP and? NP?}', '{JJ? NNS|NNPS} CAUSALV2 {NP and? NP?}', '{NP} CAUSALV3 {NP}', '{NP} CAUSALV3 {VBD? NP , VBD? NP , and VBD? NP}', '{DT?|PP? JJ? NN*+ and DT?|PP? JJ? NN*+} CAUSALV2 {VBD? NP , VBD? NP , and VBD? NP}', '{NP , NP , and DT?|PP? JJ? NN*+} CAUSALV2 {DT?|PP? JJ? NN*+}', '{NP , NP , and DT?|PP? JJ? NN*+} CAUSALV2 {DT?|PP? JJ? NN*+ and DT?|PP? JJ? NN*+}', '{NP , NP , and DT?|PP? JJ? NN*+} CAUSALV2 {NP , NP , and DT?|PP? JJ? NN*+}', '{NP , NP , and DT?|PP? JJ? NN*+} CAUSALV2 {VBD? NP , VBD? NP , and VBD? NP}', '{VBD? NP , VBD? NP , and VBD? NP} CAUSALV2 {NP}', '{DT?|PP? JJ? NN*+ , DT?|PP? JJ? NN*+ , and DT?|PP? JJ? NN*+} CAUSALV3 {DT?|PP? JJ? NN*+}', '{DT?|PP? JJ? NN*+ , DT?|PP? JJ? NN*+ , and DT?|PP? JJ? NN*+} CAUSALV3 {NP}', '{NP , NP , and DT?|PP? JJ? NN*+} CAUSALV3 {VBD? NP , VBD? NP , and VBD? NP}', '{NP , NP , and DT?|PP? JJ? NN*+} CAUSALV3 {NP , NP , and DT?|PP? JJ? NN*+}', '{DT?|PP? JJ? NNS|NNPS} cause {VBD? JJ? NN*+ , VBD? JJ? NN*+ , and VBD? JJ? NN*+}']\n"
     ]
    }
   ],
   "source": [
    "#import test_strings\n",
    "import simple_cre"
   ]
  },
  {
   "cell_type": "code",
   "execution_count": 51,
   "metadata": {},
   "outputs": [],
   "source": [
    "my_sample_string = \"My name is Bob. Racism, homophobia, and nationalism cause suffering and pain. Have a nice day.\""
   ]
  },
  {
   "cell_type": "code",
   "execution_count": 52,
   "metadata": {},
   "outputs": [
    {
     "data": {
      "text/plain": [
       "[('Racism, homophobia, and nationalism', 'suffering and pain')]"
      ]
     },
     "execution_count": 52,
     "metadata": {},
     "output_type": "execute_result"
    }
   ],
   "source": [
    "simple_cre.extract_patterns_from_text(simple_cre.cause_effect_patterns, my_sample_string, simple_cre.cause_effect_order)"
   ]
  },
  {
   "cell_type": "code",
   "execution_count": 65,
   "metadata": {},
   "outputs": [
    {
     "data": {
      "text/plain": [
       "[('Homelessness and poverty', 'suffering'), ('undernutrition', 'weight loss')]"
      ]
     },
     "execution_count": 65,
     "metadata": {},
     "output_type": "execute_result"
    }
   ],
   "source": [
    "# Problematic sentences\n",
    "\n",
    "simple_cre.extract_patterns_from_text(simple_cre.cause_effect_patterns, \"Homelessness and poverty cause suffering. Furthermore, undernutrition causes weight loss. Carl went to the bank. Studies also show that economic development causes improved living standards.\", simple_cre.cause_effect_order)"
   ]
  },
  {
   "cell_type": "code",
   "execution_count": 67,
   "metadata": {},
   "outputs": [
    {
     "data": {
      "text/plain": [
       "[('economic development', 'improved living standards')]"
      ]
     },
     "execution_count": 67,
     "metadata": {},
     "output_type": "execute_result"
    }
   ],
   "source": [
    "# Note that this is not a problem if I only test the sentence...\n",
    "simple_cre.extract_patterns_from_text(simple_cre.cause_effect_patterns, \"Studies also show that economic development causes improved living standards.\", simple_cre.cause_effect_order)"
   ]
  },
  {
   "cell_type": "code",
   "execution_count": 68,
   "metadata": {},
   "outputs": [],
   "source": [
    "from pattern.en import parsetree"
   ]
  },
  {
   "cell_type": "code",
   "execution_count": 79,
   "metadata": {},
   "outputs": [],
   "source": [
    "t = parsetree(\"Homelessness and poverty cause suffering. Furthermore, undernutrition causes weight loss. Carl went to the bank. Studies also show that economic development causes improved living standards.\")"
   ]
  },
  {
   "cell_type": "code",
   "execution_count": 80,
   "metadata": {},
   "outputs": [
    {
     "data": {
      "text/plain": [
       "[Sentence('Homelessness/NN/B-NP/O and/CC/I-NP/O poverty/NN/I-NP/O cause/NN/I-NP/O suffering/NN/I-NP/O ././O/O'),\n",
       " Sentence('Furthermore/RB/B-ADVP/O ,/,/O/O undernutrition/NN/B-NP/O causes/VBZ/B-VP/O weight/NN/B-NP/O loss/NN/I-NP/O ././O/O'),\n",
       " Sentence('Carl/NNP/B-NP/O went/VBD/B-VP/O to/TO/O/O the/DT/B-NP/O bank/NN/I-NP/O ././O/O'),\n",
       " Sentence('Studies/NNS/B-NP/O also/RB/B-VP/O show/VB/I-VP/O that/IN/B-PP/B-PNP economic/JJ/B-NP/I-PNP development/NN/I-NP/I-PNP causes/VBZ/B-VP/O improved/JJ/B-NP/O living/NN/I-NP/O standards/NNS/I-NP/O ././O/O')]"
      ]
     },
     "execution_count": 80,
     "metadata": {},
     "output_type": "execute_result"
    }
   ],
   "source": [
    "t.sentences"
   ]
  },
  {
   "cell_type": "code",
   "execution_count": 81,
   "metadata": {},
   "outputs": [
    {
     "data": {
      "text/plain": [
       "'Homelessness and poverty cause suffering .'"
      ]
     },
     "execution_count": 81,
     "metadata": {},
     "output_type": "execute_result"
    }
   ],
   "source": [
    "t.sentences[0].string"
   ]
  },
  {
   "cell_type": "code",
   "execution_count": 82,
   "metadata": {},
   "outputs": [
    {
     "name": "stdout",
     "output_type": "stream",
     "text": [
      "Homelessness and poverty cause suffering .\n",
      "[('Homelessness and poverty', 'suffering')]\n",
      "Furthermore , undernutrition causes weight loss .\n",
      "[('undernutrition', 'weight loss')]\n",
      "Carl went to the bank .\n",
      "[]\n",
      "Studies also show that economic development causes improved living standards .\n",
      "[('economic development', 'improved living standards')]\n"
     ]
    }
   ],
   "source": [
    "for sentence in t.sentences:\n",
    "    print(sentence.string)\n",
    "    print(simple_cre.extract_patterns_from_text(simple_cre.cause_effect_patterns, sentence.string, simple_cre.cause_effect_order))"
   ]
  },
  {
   "cell_type": "code",
   "execution_count": null,
   "metadata": {},
   "outputs": [],
   "source": []
  }
 ],
 "metadata": {
  "kernelspec": {
   "display_name": "Python 3",
   "language": "python",
   "name": "python3"
  },
  "language_info": {
   "codemirror_mode": {
    "name": "ipython",
    "version": 3
   },
   "file_extension": ".py",
   "mimetype": "text/x-python",
   "name": "python",
   "nbconvert_exporter": "python",
   "pygments_lexer": "ipython3",
   "version": "3.6.6"
  }
 },
 "nbformat": 4,
 "nbformat_minor": 2
}
