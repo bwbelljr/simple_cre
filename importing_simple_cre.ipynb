{
 "cells": [
  {
   "cell_type": "code",
   "execution_count": 1,
   "metadata": {},
   "outputs": [],
   "source": [
    "#import test_strings\n",
    "import simple_cre"
   ]
  },
  {
   "cell_type": "code",
   "execution_count": 22,
   "metadata": {},
   "outputs": [],
   "source": [
    "my_sample_string = \"Trade wars, poverty, and hunger are caused by nationalism, xenophobia, and isolationism.\""
   ]
  },
  {
   "cell_type": "code",
   "execution_count": 23,
   "metadata": {},
   "outputs": [
    {
     "data": {
      "text/plain": [
       "[('nationalism, xenophobia, and isolationism', 'hunger'),\n",
       " ('nationalism', 'Trade wars, poverty, and hunger')]"
      ]
     },
     "execution_count": 23,
     "metadata": {},
     "output_type": "execute_result"
    }
   ],
   "source": [
    "simple_cre.extract_patterns_from_text(simple_cre.effect_cause_patterns, my_sample_string, simple_cre.effect_cause_order)"
   ]
  },
  {
   "cell_type": "code",
   "execution_count": null,
   "metadata": {},
   "outputs": [],
   "source": [
    "simple_cre.effect_cause_order"
   ]
  },
  {
   "cell_type": "code",
   "execution_count": null,
   "metadata": {},
   "outputs": [],
   "source": [
    "# Problematic sentences\n",
    "\n",
    "simple_cre.extract_patterns_from_text(simple_cre.cause_effect_patterns, \"Homelessness and poverty cause suffering. Furthermore, undernutrition causes weight loss. Carl went to the bank. Studies also show that economic development causes improved living standards.\", simple_cre.cause_effect_order)"
   ]
  },
  {
   "cell_type": "code",
   "execution_count": null,
   "metadata": {},
   "outputs": [],
   "source": [
    "# Note that this is not a problem if I only test the sentence...\n",
    "simple_cre.extract_patterns_from_text(simple_cre.cause_effect_patterns, \"Studies also show that economic development causes improved living standards.\", simple_cre.cause_effect_order)"
   ]
  },
  {
   "cell_type": "code",
   "execution_count": null,
   "metadata": {},
   "outputs": [],
   "source": [
    "from pattern.en import parsetree"
   ]
  },
  {
   "cell_type": "code",
   "execution_count": null,
   "metadata": {},
   "outputs": [],
   "source": [
    "t = parsetree(\"Homelessness and poverty cause suffering. Furthermore, undernutrition causes weight loss. Carl went to the bank. Studies also show that economic development causes improved living standards.\")"
   ]
  },
  {
   "cell_type": "code",
   "execution_count": null,
   "metadata": {},
   "outputs": [],
   "source": [
    "t.sentences"
   ]
  },
  {
   "cell_type": "code",
   "execution_count": null,
   "metadata": {},
   "outputs": [],
   "source": [
    "t.sentences[0].string"
   ]
  },
  {
   "cell_type": "code",
   "execution_count": null,
   "metadata": {},
   "outputs": [],
   "source": [
    "for sentence in t.sentences:\n",
    "    print(sentence.string)\n",
    "    print(simple_cre.extract_patterns_from_text(simple_cre.cause_effect_patterns, sentence.string, simple_cre.cause_effect_order))"
   ]
  },
  {
   "cell_type": "code",
   "execution_count": null,
   "metadata": {},
   "outputs": [],
   "source": []
  }
 ],
 "metadata": {
  "kernelspec": {
   "display_name": "Python 3",
   "language": "python",
   "name": "python3"
  },
  "language_info": {
   "codemirror_mode": {
    "name": "ipython",
    "version": 3
   },
   "file_extension": ".py",
   "mimetype": "text/x-python",
   "name": "python",
   "nbconvert_exporter": "python",
   "pygments_lexer": "ipython3",
   "version": "3.6.6"
  }
 },
 "nbformat": 4,
 "nbformat_minor": 2
}
