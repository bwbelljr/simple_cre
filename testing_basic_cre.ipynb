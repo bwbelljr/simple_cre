{
 "cells": [
  {
   "cell_type": "code",
   "execution_count": 1,
   "metadata": {},
   "outputs": [],
   "source": [
    "from basic_cre import extract_doc_causal_tuples"
   ]
  },
  {
   "cell_type": "code",
   "execution_count": 2,
   "metadata": {},
   "outputs": [
    {
     "data": {
      "text/plain": [
       "[('Smoking', 'lung cancer')]"
      ]
     },
     "execution_count": 2,
     "metadata": {},
     "output_type": "execute_result"
    }
   ],
   "source": [
    "extract_doc_causal_tuples(\"Smoking caused lung cancer.\")"
   ]
  },
  {
   "cell_type": "code",
   "execution_count": null,
   "metadata": {},
   "outputs": [],
   "source": [
    "extract_doc_causal_tuples(\"Migraine is caused by childhood trauma.\")"
   ]
  },
  {
   "cell_type": "code",
   "execution_count": null,
   "metadata": {},
   "outputs": [],
   "source": [
    "extract_doc_causal_tuples(\"Migraine is caused by childhood trauma and genetics.\")"
   ]
  },
  {
   "cell_type": "code",
   "execution_count": null,
   "metadata": {},
   "outputs": [],
   "source": [
    "# Note that the extraction is not perfect. If more than 2 elements in a \n",
    "# noun phrase, it will only extract the first element. The goal is not \n",
    "# the perfect causal relation extraction algorithm. I want to run this\n",
    "# imperfect algorithm on a large dataset and see what I get. Based on the\n",
    "# results, I can determine whether to continue with this project, including\n",
    "# improving the extraction algorithm. For now, I can even assume that the\n",
    "# presence of causal phrases involving more than 2 factors for the cause \n",
    "# or effect is essentially random."
   ]
  },
  {
   "cell_type": "code",
   "execution_count": null,
   "metadata": {},
   "outputs": [],
   "source": [
    "extract_doc_causal_tuples(\"Migraine headaches are caused by genes, trauma, and triggers.\")"
   ]
  },
  {
   "cell_type": "code",
   "execution_count": null,
   "metadata": {},
   "outputs": [],
   "source": [
    "extract_doc_causal_tuples(\"Migraine headaches and seizures had been caused by trauma, genes, childhood adversity, and environment.\")"
   ]
  },
  {
   "cell_type": "code",
   "execution_count": null,
   "metadata": {},
   "outputs": [],
   "source": []
  }
 ],
 "metadata": {
  "kernelspec": {
   "display_name": "Python 3",
   "language": "python",
   "name": "python3"
  },
  "language_info": {
   "codemirror_mode": {
    "name": "ipython",
    "version": 3
   },
   "file_extension": ".py",
   "mimetype": "text/x-python",
   "name": "python",
   "nbconvert_exporter": "python",
   "pygments_lexer": "ipython3",
   "version": "3.6.8"
  }
 },
 "nbformat": 4,
 "nbformat_minor": 2
}
