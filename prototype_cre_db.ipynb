{
 "cells": [
  {
   "cell_type": "code",
   "execution_count": 1,
   "metadata": {},
   "outputs": [
    {
     "name": "stdout",
     "output_type": "stream",
     "text": [
      "2.6.0\n"
     ]
    }
   ],
   "source": [
    "from basic_cre import extract_doc_causal_tuples\n",
    "import sqlite3_db\n",
    "from sqlite3_db import insert_causal_table"
   ]
  },
  {
   "cell_type": "code",
   "execution_count": null,
   "metadata": {},
   "outputs": [],
   "source": [
    "causal_tuples = extract_doc_causal_tuples(\"Migraine is caused by childhood trauma. Depression causes suicidal thoughts.\")\n",
    "doc_source = \"www.yourhealthmatters.com\""
   ]
  },
  {
   "cell_type": "code",
   "execution_count": null,
   "metadata": {},
   "outputs": [],
   "source": [
    "for causal_tuple in causal_tuples:\n",
    "    insert_causal_table(causal_tuple[0], causal_tuple[1], doc_source)"
   ]
  },
  {
   "cell_type": "code",
   "execution_count": 2,
   "metadata": {},
   "outputs": [],
   "source": [
    "def extract_insert_cr(unicode_doc, doc_source):\n",
    "    # Description: extract causal relations from document and\n",
    "    #              store relations and document source in database\n",
    "    # Inputs: unicode_doc, document in unicode (utf-8) format\n",
    "    #         doc_source: document source (e.g., URL)\n",
    "    # Output: none \n",
    "    \n",
    "    causal_tuples = extract_doc_causal_tuples(unicode_doc)\n",
    "    for causal_tuple in causal_tuples:\n",
    "        insert_causal_table(causal_tuple[0], causal_tuple[1], doc_source)"
   ]
  },
  {
   "cell_type": "code",
   "execution_count": 3,
   "metadata": {},
   "outputs": [],
   "source": [
    "extract_insert_cr(\"Acupuncture causes symptom relief.\", \"www.acupuncture.com\")"
   ]
  },
  {
   "cell_type": "code",
   "execution_count": 6,
   "metadata": {},
   "outputs": [],
   "source": [
    "extract_insert_cr(\"There is nothing here. And nothing here either.\", \"www.nothing.com\")"
   ]
  },
  {
   "cell_type": "code",
   "execution_count": 7,
   "metadata": {},
   "outputs": [],
   "source": [
    "nothing_list = []\n",
    "for nothing in nothing_list:\n",
    "    print(nothing)"
   ]
  },
  {
   "cell_type": "code",
   "execution_count": 8,
   "metadata": {},
   "outputs": [],
   "source": [
    "extract_insert_cr(\"Fibromyalgia causes body pain.\", \"www.fibro.com\")"
   ]
  },
  {
   "cell_type": "code",
   "execution_count": 9,
   "metadata": {},
   "outputs": [],
   "source": [
    "extract_insert_cr(\"There is nothing here. Or here. Excessive drinking causes liver disease.\", \"www.mindyourliver.com\")"
   ]
  },
  {
   "cell_type": "code",
   "execution_count": null,
   "metadata": {},
   "outputs": [],
   "source": []
  }
 ],
 "metadata": {
  "kernelspec": {
   "display_name": "Python 3",
   "language": "python",
   "name": "python3"
  },
  "language_info": {
   "codemirror_mode": {
    "name": "ipython",
    "version": 3
   },
   "file_extension": ".py",
   "mimetype": "text/x-python",
   "name": "python",
   "nbconvert_exporter": "python",
   "pygments_lexer": "ipython3",
   "version": "3.6.8"
  }
 },
 "nbformat": 4,
 "nbformat_minor": 2
}
